{
 "cells": [
  {
   "cell_type": "code",
   "execution_count": 1,
   "id": "513214bb",
   "metadata": {},
   "outputs": [],
   "source": [
    "from numpy.random import seed\n",
    "seed(101)\n",
    "import tensorflow\n",
    "tensorflow.random.set_seed(101)\n",
    "\n",
    "import pandas as pd\n",
    "import numpy as np\n",
    "\n",
    "\n",
    "from tensorflow.keras.models import Sequential\n",
    "from tensorflow.keras.layers import Dense, Dropout, Conv2D, MaxPooling2D, Flatten\n",
    "from tensorflow.keras.optimizers import Adam\n",
    "from tensorflow.keras.metrics import categorical_crossentropy\n",
    "from tensorflow.keras.preprocessing.image import ImageDataGenerator\n",
    "from tensorflow.keras.models import Model\n",
    "from tensorflow.keras.callbacks import EarlyStopping, ReduceLROnPlateau, ModelCheckpoint\n",
    "\n",
    "import os\n",
    "import cv2\n",
    "\n",
    "import imageio\n",
    "import skimage\n",
    "import skimage.io\n",
    "import skimage.transform\n",
    "\n",
    "from sklearn.utils import shuffle\n",
    "from sklearn.metrics import confusion_matrix\n",
    "from sklearn.model_selection import train_test_split\n",
    "import itertools\n",
    "import shutil\n",
    "import matplotlib.pyplot as plt\n",
    "%matplotlib inline\n",
    "\n",
    "# Number of samples we want in each class.Total images used = SAMPLE_SIZE X 2\n",
    "# The minority class is class 1 with 55901 samples.\n",
    "\n",
    "SAMPLE_SIZE = 78786                   \n",
    "IMAGE_SIZE = 50\n",
    "\n"
   ]
  },
  {
   "cell_type": "code",
   "execution_count": 2,
   "id": "d9c9335a",
   "metadata": {},
   "outputs": [
    {
     "data": {
      "text/plain": [
       "['10253',\n",
       " '10254',\n",
       " '10255',\n",
       " '10256',\n",
       " '10257',\n",
       " '10258',\n",
       " '10259',\n",
       " '10260',\n",
       " '10261',\n",
       " '10262',\n",
       " '10264',\n",
       " '10268',\n",
       " '10269',\n",
       " '10272',\n",
       " '10273',\n",
       " '10274',\n",
       " '10275',\n",
       " '10276',\n",
       " '10277',\n",
       " '10278',\n",
       " '10279',\n",
       " '10282',\n",
       " '10285',\n",
       " '10286',\n",
       " '10288',\n",
       " '10290',\n",
       " '10291',\n",
       " '10292',\n",
       " '10293',\n",
       " '10295',\n",
       " '10299',\n",
       " '10300',\n",
       " '10301',\n",
       " '10302',\n",
       " '10303',\n",
       " '10304',\n",
       " '10305',\n",
       " '10306',\n",
       " '10307',\n",
       " '10308',\n",
       " '12241',\n",
       " '12242',\n",
       " '12626',\n",
       " '12748',\n",
       " '12749',\n",
       " '12750',\n",
       " '12751',\n",
       " '12752',\n",
       " '12810',\n",
       " '12811',\n",
       " '12817',\n",
       " '12818',\n",
       " '12819',\n",
       " '12820',\n",
       " '12821',\n",
       " '12822',\n",
       " '12823',\n",
       " '12824',\n",
       " '12826',\n",
       " '12867',\n",
       " '12868',\n",
       " '12869',\n",
       " '12870',\n",
       " '12871',\n",
       " '12872',\n",
       " '12873',\n",
       " '12875',\n",
       " '12876',\n",
       " '12877',\n",
       " '12878',\n",
       " '12879',\n",
       " '12880',\n",
       " '12881',\n",
       " '12882',\n",
       " '12883',\n",
       " '12884',\n",
       " '12886',\n",
       " '12890',\n",
       " '12891',\n",
       " '12892',\n",
       " '12893',\n",
       " '12894',\n",
       " '12895',\n",
       " '12896',\n",
       " '12897',\n",
       " '12898',\n",
       " '12900',\n",
       " '12901',\n",
       " '12905',\n",
       " '12906',\n",
       " '12907',\n",
       " '12908',\n",
       " '12909',\n",
       " '12910',\n",
       " '12911',\n",
       " '12929',\n",
       " '12930',\n",
       " '12931',\n",
       " '12932',\n",
       " '12933',\n",
       " '12934',\n",
       " '12935',\n",
       " '12947',\n",
       " '12948',\n",
       " '12949',\n",
       " '12951',\n",
       " '12954',\n",
       " '12955',\n",
       " '13018',\n",
       " '13019',\n",
       " '13020',\n",
       " '13021',\n",
       " '13022',\n",
       " '13023',\n",
       " '13024',\n",
       " '13025',\n",
       " '13106',\n",
       " '13400',\n",
       " '13401',\n",
       " '13402',\n",
       " '13403',\n",
       " '13404',\n",
       " '13458',\n",
       " '13459',\n",
       " '13460',\n",
       " '13461',\n",
       " '13462',\n",
       " '13591',\n",
       " '13613',\n",
       " '13616',\n",
       " '13617',\n",
       " '13666',\n",
       " '13687',\n",
       " '13688',\n",
       " '13689',\n",
       " '13691',\n",
       " '13692',\n",
       " '13693',\n",
       " '13694',\n",
       " '13916',\n",
       " '14078',\n",
       " '14079',\n",
       " '14081',\n",
       " '14082',\n",
       " '14153',\n",
       " '14154',\n",
       " '14155',\n",
       " '14156',\n",
       " '14157',\n",
       " '14188',\n",
       " '14189',\n",
       " '14190',\n",
       " '14191',\n",
       " '14192',\n",
       " '14209',\n",
       " '14210',\n",
       " '14211',\n",
       " '14212',\n",
       " '14213',\n",
       " '14304',\n",
       " '14305',\n",
       " '14306',\n",
       " '14321',\n",
       " '15471',\n",
       " '15472',\n",
       " '15473',\n",
       " '15510',\n",
       " '15512',\n",
       " '15513',\n",
       " '15514',\n",
       " '15515',\n",
       " '15516',\n",
       " '15632',\n",
       " '15633',\n",
       " '15634',\n",
       " '15839',\n",
       " '15840',\n",
       " '15902',\n",
       " '15903',\n",
       " '16014',\n",
       " '16085',\n",
       " '16165',\n",
       " '16166',\n",
       " '16167',\n",
       " '16531',\n",
       " '16532',\n",
       " '16533',\n",
       " '16534',\n",
       " '16550',\n",
       " '16551',\n",
       " '16552',\n",
       " '16553',\n",
       " '16554',\n",
       " '16555',\n",
       " '16568',\n",
       " '16569',\n",
       " '16570',\n",
       " '16895',\n",
       " '16896',\n",
       " '8863',\n",
       " '8864',\n",
       " '8865',\n",
       " '8867',\n",
       " '8913',\n",
       " '8914',\n",
       " '8916',\n",
       " '8917',\n",
       " '8918',\n",
       " '8950',\n",
       " '8951',\n",
       " '8955',\n",
       " '8956',\n",
       " '8957',\n",
       " '8959',\n",
       " '8974',\n",
       " '8975',\n",
       " '8980',\n",
       " '8984',\n",
       " '9022',\n",
       " '9023',\n",
       " '9029',\n",
       " '9035',\n",
       " '9036',\n",
       " '9037',\n",
       " '9041',\n",
       " '9043',\n",
       " '9044',\n",
       " '9073',\n",
       " '9075',\n",
       " '9076',\n",
       " '9077',\n",
       " '9078',\n",
       " '9081',\n",
       " '9083',\n",
       " '9123',\n",
       " '9124',\n",
       " '9125',\n",
       " '9126',\n",
       " '9135',\n",
       " '9173',\n",
       " '9174',\n",
       " '9175',\n",
       " '9176',\n",
       " '9177',\n",
       " '9178',\n",
       " '9181',\n",
       " '9225',\n",
       " '9226',\n",
       " '9227',\n",
       " '9228',\n",
       " '9250',\n",
       " '9254',\n",
       " '9255',\n",
       " '9256',\n",
       " '9257',\n",
       " '9258',\n",
       " '9259',\n",
       " '9260',\n",
       " '9261',\n",
       " '9262',\n",
       " '9265',\n",
       " '9266',\n",
       " '9267',\n",
       " '9290',\n",
       " '9291',\n",
       " '9319',\n",
       " '9320',\n",
       " '9321',\n",
       " '9322',\n",
       " '9323',\n",
       " '9324',\n",
       " '9325',\n",
       " '9344',\n",
       " '9345',\n",
       " '9346',\n",
       " '9347',\n",
       " '9381',\n",
       " '9382',\n",
       " '9383']"
      ]
     },
     "execution_count": 2,
     "metadata": {},
     "output_type": "execute_result"
    }
   ],
   "source": [
    "input_dir_path='./input/IDC_regular_ps50_idx5'\n",
    "os.listdir(input_dir_path)"
   ]
  },
  {
   "cell_type": "code",
   "execution_count": 3,
   "id": "ac7c66ad",
   "metadata": {},
   "outputs": [
    {
     "data": {
      "text/plain": [
       "279"
      ]
     },
     "execution_count": 3,
     "metadata": {},
     "output_type": "execute_result"
    }
   ],
   "source": [
    "# Check the number of patient folders.\n",
    "\n",
    "patients=os.listdir(input_dir_path)\n",
    "len(patients)"
   ]
  },
  {
   "cell_type": "code",
   "execution_count": 4,
   "id": "9b950a8a",
   "metadata": {},
   "outputs": [],
   "source": [
    "# Create a new directory to store all available images\n",
    "all_images_dir = 'all_images_dir'\n",
    "# os.mkdir(all_images_dir)"
   ]
  },
  {
   "cell_type": "code",
   "execution_count": 5,
   "id": "4e887f24",
   "metadata": {},
   "outputs": [
    {
     "name": "stdout",
     "output_type": "stream",
     "text": [
      " Volume in drive C is OS\n",
      " Volume Serial Number is F4F1-3EA8\n",
      "\n",
      " Directory of C:\\Users\\Anu\n",
      "\n",
      "25-11-2022  16:53    <DIR>          .\n",
      "19-11-2022  21:53    <DIR>          ..\n",
      "16-11-2022  16:16    <DIR>          .cache\n",
      "22-11-2022  09:15    <DIR>          .ipynb_checkpoints\n",
      "13-10-2022  17:39    <DIR>          .ipython\n",
      "13-10-2022  19:03    <DIR>          .jupyter\n",
      "13-10-2022  17:50    <DIR>          .keras\n",
      "13-10-2022  17:53    <DIR>          .matplotlib\n",
      "09-11-2022  13:43               106 .node_repl_history\n",
      "11-06-2022  19:56    <DIR>          .vscode\n",
      "25-11-2022  14:33    <DIR>          all_images_dir\n",
      "13-10-2022  17:38    <DIR>          anaconda3\n",
      "14-09-2022  17:44               108 ayush.html\n",
      "20-11-2022  20:30    <DIR>          base_dir\n",
      "07-10-2022  22:31    <DIR>          Contacts\n",
      "15-11-2022  10:24            16,410 DAA_FIN_project.ipynb\n",
      "21-08-2022  01:23    <DIR>          Documents\n",
      "25-11-2022  11:42    <DIR>          Downloads\n",
      "07-10-2022  22:31    <DIR>          Favorites\n",
      "25-11-2022  16:53           169,712 IDC_classifier.ipynb\n",
      "22-11-2022  10:16    <DIR>          input\n",
      "07-10-2022  22:31    <DIR>          Links\n",
      "25-11-2022  15:36         6,277,256 model.h5\n",
      "07-10-2022  22:31    <DIR>          Music\n",
      "26-11-2022  11:12    <DIR>          OneDrive\n",
      "26-11-2022  11:12    <DIR>          OneDrive - BML MUNJAL UNIVERSITY\n",
      "06-08-2022  13:25    <DIR>          Pictures\n",
      "26-09-2022  19:20             5,728 Pregrad_HW_Anoushka_Shrivastav.ipynb\n",
      "07-10-2022  22:31    <DIR>          Saved Games\n",
      "07-10-2022  22:31    <DIR>          Searches\n",
      "21-08-2022  00:37    <DIR>          source\n",
      "25-08-2022  11:29               280 tested.html\n",
      "11-07-2022  20:32    <DIR>          Tracing\n",
      "07-10-2022  22:31    <DIR>          Videos\n",
      "               7 File(s)      6,469,600 bytes\n",
      "              27 Dir(s)  128,279,134,208 bytes free\n"
     ]
    }
   ],
   "source": [
    "# check that the new diectory has been created    #can't use 'ls' as it is for linux\n",
    "!dir"
   ]
  },
  {
   "cell_type": "code",
   "execution_count": 6,
   "id": "be85724f",
   "metadata": {},
   "outputs": [],
   "source": [
    "# This code copies all images from their seperate folders into the same \n",
    "# folder called all_images_dir.\n",
    "\n",
    "# Create a list with all the patient id numbers.\n",
    "# Each patient id folder has 2 sub folders --> folder 0 and folder 1\n",
    "\n",
    "# Example:\n",
    "    # '10285'\n",
    "        # '0'\n",
    "        # '1'\n",
    "\n",
    "# create a list of all patient id's\n",
    "patient_list=os.listdir('./input/IDC_regular_ps50_idx5/')\n",
    "for patient in patient_list:\n",
    "    path_0= './input/IDC_regular_ps50_idx5/'+ str(patient) + '/0'   #this particular path style necessary for here\n",
    "    path_1= './input/IDC_regular_ps50_idx5/'+ str(patient) + '/1'\n",
    "    \n",
    "    # create a list of all files in folder 0\n",
    "    file_list_0 = os.listdir(path_0)\n",
    "    # create a list of list all file in folder 1\n",
    "    file_list_1 = os.listdir(path_1)\n",
    "\n",
    "    # move the 0 images to all_images_dir\n",
    "    for fname in file_list_0:\n",
    "\n",
    "        # source path to image\n",
    "        src = os.path.join(path_0, fname)\n",
    "        # destination path to image\n",
    "        dst = os.path.join(all_images_dir, fname)\n",
    "        # copy the image from the source to the destination\n",
    "        shutil.copyfile(src, dst)\n",
    "\n",
    "\n",
    "    # move the 1 images to all_images_dir\n",
    "    for fname in file_list_1:\n",
    "\n",
    "        # source path to image\n",
    "        src = os.path.join(path_1, fname)\n",
    "        # destination path to image\n",
    "        dst = os.path.join(all_images_dir, fname)\n",
    "        # copy the image from the source to the destination\n",
    "        shutil.copyfile(src, dst)"
   ]
  },
  {
   "cell_type": "code",
   "execution_count": 7,
   "id": "0570370a",
   "metadata": {},
   "outputs": [
    {
     "data": {
      "text/plain": [
       "277524"
      ]
     },
     "execution_count": 7,
     "metadata": {},
     "output_type": "execute_result"
    }
   ],
   "source": [
    "# check how many images are in all_images_dir\n",
    "\n",
    "# size: 2.5GB\n",
    "x=os.scandir(path='all_images_dir')\n",
    "# len(os.listdir('all_images_dir'))\n",
    "len(list(x))"
   ]
  },
  {
   "cell_type": "code",
   "execution_count": 8,
   "id": "fded814c",
   "metadata": {},
   "outputs": [
    {
     "data": {
      "text/plain": [
       "277524"
      ]
     },
     "execution_count": 8,
     "metadata": {},
     "output_type": "execute_result"
    }
   ],
   "source": [
    "len(os.listdir('all_images_dir'))"
   ]
  },
  {
   "cell_type": "code",
   "execution_count": 9,
   "id": "8f03baaf",
   "metadata": {},
   "outputs": [
    {
     "data": {
      "text/html": [
       "<div>\n",
       "<style scoped>\n",
       "    .dataframe tbody tr th:only-of-type {\n",
       "        vertical-align: middle;\n",
       "    }\n",
       "\n",
       "    .dataframe tbody tr th {\n",
       "        vertical-align: top;\n",
       "    }\n",
       "\n",
       "    .dataframe thead th {\n",
       "        text-align: right;\n",
       "    }\n",
       "</style>\n",
       "<table border=\"1\" class=\"dataframe\">\n",
       "  <thead>\n",
       "    <tr style=\"text-align: right;\">\n",
       "      <th></th>\n",
       "      <th>image_id</th>\n",
       "    </tr>\n",
       "  </thead>\n",
       "  <tbody>\n",
       "    <tr>\n",
       "      <th>0</th>\n",
       "      <td>10253_idx5_x1001_y1001_class0.png</td>\n",
       "    </tr>\n",
       "    <tr>\n",
       "      <th>1</th>\n",
       "      <td>10253_idx5_x1001_y1051_class0.png</td>\n",
       "    </tr>\n",
       "    <tr>\n",
       "      <th>2</th>\n",
       "      <td>10253_idx5_x1001_y1101_class0.png</td>\n",
       "    </tr>\n",
       "    <tr>\n",
       "      <th>3</th>\n",
       "      <td>10253_idx5_x1001_y1151_class0.png</td>\n",
       "    </tr>\n",
       "    <tr>\n",
       "      <th>4</th>\n",
       "      <td>10253_idx5_x1001_y1201_class0.png</td>\n",
       "    </tr>\n",
       "  </tbody>\n",
       "</table>\n",
       "</div>"
      ],
      "text/plain": [
       "                            image_id\n",
       "0  10253_idx5_x1001_y1001_class0.png\n",
       "1  10253_idx5_x1001_y1051_class0.png\n",
       "2  10253_idx5_x1001_y1101_class0.png\n",
       "3  10253_idx5_x1001_y1151_class0.png\n",
       "4  10253_idx5_x1001_y1201_class0.png"
      ]
     },
     "execution_count": 9,
     "metadata": {},
     "output_type": "execute_result"
    }
   ],
   "source": [
    "#Create a dataframe containing all the information¶\n",
    "image_list = os.listdir('all_images_dir')\n",
    "\n",
    "df_data = pd.DataFrame(image_list, columns=['image_id'])\n",
    "\n",
    "df_data.head()\n"
   ]
  },
  {
   "cell_type": "code",
   "execution_count": 10,
   "id": "d7d4a6c4",
   "metadata": {},
   "outputs": [
    {
     "data": {
      "text/html": [
       "<div>\n",
       "<style scoped>\n",
       "    .dataframe tbody tr th:only-of-type {\n",
       "        vertical-align: middle;\n",
       "    }\n",
       "\n",
       "    .dataframe tbody tr th {\n",
       "        vertical-align: top;\n",
       "    }\n",
       "\n",
       "    .dataframe thead th {\n",
       "        text-align: right;\n",
       "    }\n",
       "</style>\n",
       "<table border=\"1\" class=\"dataframe\">\n",
       "  <thead>\n",
       "    <tr style=\"text-align: right;\">\n",
       "      <th></th>\n",
       "      <th>image_id</th>\n",
       "      <th>patient_id</th>\n",
       "      <th>target</th>\n",
       "    </tr>\n",
       "  </thead>\n",
       "  <tbody>\n",
       "    <tr>\n",
       "      <th>0</th>\n",
       "      <td>10253_idx5_x1001_y1001_class0.png</td>\n",
       "      <td>10253</td>\n",
       "      <td>0</td>\n",
       "    </tr>\n",
       "    <tr>\n",
       "      <th>1</th>\n",
       "      <td>10253_idx5_x1001_y1051_class0.png</td>\n",
       "      <td>10253</td>\n",
       "      <td>0</td>\n",
       "    </tr>\n",
       "    <tr>\n",
       "      <th>2</th>\n",
       "      <td>10253_idx5_x1001_y1101_class0.png</td>\n",
       "      <td>10253</td>\n",
       "      <td>0</td>\n",
       "    </tr>\n",
       "    <tr>\n",
       "      <th>3</th>\n",
       "      <td>10253_idx5_x1001_y1151_class0.png</td>\n",
       "      <td>10253</td>\n",
       "      <td>0</td>\n",
       "    </tr>\n",
       "    <tr>\n",
       "      <th>4</th>\n",
       "      <td>10253_idx5_x1001_y1201_class0.png</td>\n",
       "      <td>10253</td>\n",
       "      <td>0</td>\n",
       "    </tr>\n",
       "    <tr>\n",
       "      <th>5</th>\n",
       "      <td>10253_idx5_x1001_y1251_class0.png</td>\n",
       "      <td>10253</td>\n",
       "      <td>0</td>\n",
       "    </tr>\n",
       "    <tr>\n",
       "      <th>6</th>\n",
       "      <td>10253_idx5_x1001_y1301_class0.png</td>\n",
       "      <td>10253</td>\n",
       "      <td>0</td>\n",
       "    </tr>\n",
       "    <tr>\n",
       "      <th>7</th>\n",
       "      <td>10253_idx5_x1001_y1351_class0.png</td>\n",
       "      <td>10253</td>\n",
       "      <td>0</td>\n",
       "    </tr>\n",
       "    <tr>\n",
       "      <th>8</th>\n",
       "      <td>10253_idx5_x1001_y1501_class0.png</td>\n",
       "      <td>10253</td>\n",
       "      <td>0</td>\n",
       "    </tr>\n",
       "    <tr>\n",
       "      <th>9</th>\n",
       "      <td>10253_idx5_x1001_y1551_class0.png</td>\n",
       "      <td>10253</td>\n",
       "      <td>0</td>\n",
       "    </tr>\n",
       "  </tbody>\n",
       "</table>\n",
       "</div>"
      ],
      "text/plain": [
       "                            image_id patient_id target\n",
       "0  10253_idx5_x1001_y1001_class0.png      10253      0\n",
       "1  10253_idx5_x1001_y1051_class0.png      10253      0\n",
       "2  10253_idx5_x1001_y1101_class0.png      10253      0\n",
       "3  10253_idx5_x1001_y1151_class0.png      10253      0\n",
       "4  10253_idx5_x1001_y1201_class0.png      10253      0\n",
       "5  10253_idx5_x1001_y1251_class0.png      10253      0\n",
       "6  10253_idx5_x1001_y1301_class0.png      10253      0\n",
       "7  10253_idx5_x1001_y1351_class0.png      10253      0\n",
       "8  10253_idx5_x1001_y1501_class0.png      10253      0\n",
       "9  10253_idx5_x1001_y1551_class0.png      10253      0"
      ]
     },
     "execution_count": 10,
     "metadata": {},
     "output_type": "execute_result"
    }
   ],
   "source": [
    "# Define Helper Functions\n",
    "\n",
    "# Each file name has this format:\n",
    "# '14211_idx5_x2401_y1301_class1.png'\n",
    "\n",
    "def extract_patient_id(x):\n",
    "    # split into a list\n",
    "    a = x.split('_')\n",
    "    # the id is the first index in the list\n",
    "    patient_id = a[0]\n",
    "    \n",
    "    return patient_id\n",
    "\n",
    "def extract_target(x):\n",
    "    # split into a list\n",
    "    a = x.split('_')\n",
    "    # the target is part of the string in index 4\n",
    "    b = a[4]\n",
    "    # the ytarget i.e. 1 or 2 is the 5th index of the string --> class1\n",
    "    target = b[5]\n",
    "    \n",
    "    return target\n",
    "\n",
    "# extract the patient id\n",
    "\n",
    "# create a new column called 'patient_id'\n",
    "df_data['patient_id'] = df_data['image_id'].apply(extract_patient_id)\n",
    "# create a new column called 'target'\n",
    "df_data['target'] = df_data['image_id'].apply(extract_target)\n",
    "\n",
    "df_data.head(10)"
   ]
  },
  {
   "cell_type": "code",
   "execution_count": 11,
   "id": "f9e09409",
   "metadata": {},
   "outputs": [
    {
     "data": {
      "text/plain": [
       "(277524, 3)"
      ]
     },
     "execution_count": 11,
     "metadata": {},
     "output_type": "execute_result"
    }
   ],
   "source": [
    "df_data.shape"
   ]
  },
  {
   "cell_type": "code",
   "execution_count": 12,
   "id": "b5c4f8bc",
   "metadata": {},
   "outputs": [
    {
     "data": {
      "image/png": "[encoded data removed]",
      "text/plain": [
       "<Figure size 1152x576 with 8 Axes>"
      ]
     },
     "metadata": {
      "needs_background": "light"
     },
     "output_type": "display_data"
    }
   ],
   "source": [
    "#Display a random sample of train images by class¶\n",
    "def draw_category_images(col_name,figure_cols, df, IMAGE_PATH):\n",
    "    \n",
    "    \"\"\"\n",
    "    Give a column in a dataframe,\n",
    "    this function takes a sample of each class and displays that\n",
    "    sample on one row. The sample size is the same as figure_cols which\n",
    "    is the number of columns in the figure.\n",
    "    Because this function takes a random sample, each time the function is run it\n",
    "    displays different images.\n",
    "    \"\"\"\n",
    "    \n",
    "\n",
    "    categories = (df.groupby([col_name])[col_name].nunique()).index\n",
    "    f, ax = plt.subplots(nrows=len(categories),ncols=figure_cols, \n",
    "                         figsize=(4*figure_cols,4*len(categories))) # adjust size here\n",
    "    # draw a number of images for each location\n",
    "    for i, cat in enumerate(categories):\n",
    "        sample = df[df[col_name]==cat].sample(figure_cols) # figure_cols is also the sample size\n",
    "        for j in range(0,figure_cols):\n",
    "            file=IMAGE_PATH + sample.iloc[j]['image_id']\n",
    "            im=cv2.imread(file)\n",
    "            ax[i, j].imshow(im, resample=True, cmap='gray')\n",
    "            ax[i, j].set_title(cat, fontsize=16)  \n",
    "    plt.tight_layout()\n",
    "    plt.show()\n",
    "    \n",
    "IMAGE_PATH = 'all_images_dir/'\n",
    "\n",
    "draw_category_images('target',4, df_data, IMAGE_PATH)"
   ]
  },
  {
   "cell_type": "code",
   "execution_count": 13,
   "id": "91dc175b",
   "metadata": {},
   "outputs": [
    {
     "data": {
      "text/plain": [
       "0    198738\n",
       "1     78786\n",
       "Name: target, dtype: int64"
      ]
     },
     "execution_count": 13,
     "metadata": {},
     "output_type": "execute_result"
    }
   ],
   "source": [
    "#Balance the class distribution\n",
    "# What is the class distribution?\n",
    "df_data['target'].value_counts()"
   ]
  },
  {
   "cell_type": "code",
   "execution_count": 14,
   "id": "ec27b102",
   "metadata": {},
   "outputs": [
    {
     "data": {
      "text/plain": [
       "0    78786\n",
       "1    78786\n",
       "Name: target, dtype: int64"
      ]
     },
     "execution_count": 14,
     "metadata": {},
     "output_type": "execute_result"
    }
   ],
   "source": [
    "# take a sample of the majority class 0 \n",
    "df_0 = df_data[df_data['target'] == '0'].sample(SAMPLE_SIZE, random_state=101)\n",
    "df_1 = df_data[df_data['target'] == '1'].sample(SAMPLE_SIZE, random_state=101)\n",
    "\n",
    "# concat the two dataframes\n",
    "df_data = pd.concat([df_0, df_1], axis=0).reset_index(drop=True)\n",
    "\n",
    "# Check the new class distribution\n",
    "df_data['target'].value_counts()"
   ]
  },
  {
   "cell_type": "code",
   "execution_count": 15,
   "id": "7fa9ccb8",
   "metadata": {},
   "outputs": [
    {
     "name": "stdout",
     "output_type": "stream",
     "text": [
      "(141814, 3)\n",
      "(15758, 3)\n"
     ]
    }
   ],
   "source": [
    "#Create the train and val sets\n",
    "# train_test_split\n",
    "\n",
    "# stratify=y creates a balanced validation set.\n",
    "y = df_data['target']\n",
    "\n",
    "df_train, df_val = train_test_split(df_data, test_size=0.10, random_state=101, stratify=y)\n",
    "\n",
    "print(df_train.shape)\n",
    "print(df_val.shape)\n",
    "\n"
   ]
  },
  {
   "cell_type": "code",
   "execution_count": 16,
   "id": "c7529cce",
   "metadata": {},
   "outputs": [
    {
     "data": {
      "text/plain": [
       "1    70907\n",
       "0    70907\n",
       "Name: target, dtype: int64"
      ]
     },
     "execution_count": 16,
     "metadata": {},
     "output_type": "execute_result"
    }
   ],
   "source": [
    "df_train['target'].value_counts()"
   ]
  },
  {
   "cell_type": "code",
   "execution_count": 17,
   "id": "5520dcae",
   "metadata": {},
   "outputs": [
    {
     "data": {
      "text/plain": [
       "0    7879\n",
       "1    7879\n",
       "Name: target, dtype: int64"
      ]
     },
     "execution_count": 17,
     "metadata": {},
     "output_type": "execute_result"
    }
   ],
   "source": [
    "df_val['target'].value_counts()"
   ]
  },
  {
   "cell_type": "code",
   "execution_count": 18,
   "id": "36ab7b7e",
   "metadata": {},
   "outputs": [],
   "source": [
    "#Create a Directory Structure\n",
    "# Create a new directory\n",
    "base_dir = 'base_dir'\n",
    "# os.mkdir(base_dir)\n",
    "\n",
    "\n",
    "#[CREATE FOLDERS INSIDE THE BASE DIRECTORY]\n",
    "\n",
    "# now we create 2 folders inside 'base_dir':\n",
    "\n",
    "# train_dir\n",
    "    # a_no_idc\n",
    "    # b_has_idc\n",
    "\n",
    "# val_dir\n",
    "    # a_no_idc\n",
    "    # b_has_idc\n",
    "\n",
    "\n",
    "\n",
    "# create a path to 'base_dir' to which we will join the names of the new folders\n",
    "# train_dir\n",
    "train_dir = os.path.join(base_dir, 'train_dir')\n",
    "# os.mkdir(train_dir)\n",
    "\n",
    "# val_dir\n",
    "val_dir = os.path.join(base_dir, 'val_dir')\n",
    "# os.mkdir(val_dir)\n",
    "\n",
    "\n",
    "# [CREATE FOLDERS INSIDE THE TRAIN AND VALIDATION FOLDERS]\n",
    "# Inside each folder we create seperate folders for each class\n",
    "\n",
    "# create new folders inside train_dir\n",
    "a_no_idc = os.path.join(train_dir, 'a_no_idc')\n",
    "# os.mkdir(a_no_idc)\n",
    "b_has_idc = os.path.join(train_dir, 'b_has_idc')\n",
    "# os.mkdir(b_has_idc)\n",
    "\n",
    "\n",
    "# create new folders inside val_dir\n",
    "a_no_idc = os.path.join(val_dir, 'a_no_idc')\n",
    "# os.mkdir(a_no_idc)\n",
    "b_has_idc = os.path.join(val_dir, 'b_has_idc')\n",
    "# os.mkdir(b_has_idc)"
   ]
  },
  {
   "cell_type": "code",
   "execution_count": 19,
   "id": "1f95238a",
   "metadata": {},
   "outputs": [
    {
     "data": {
      "text/plain": [
       "['a_no_idc', 'b_has_idc']"
      ]
     },
     "execution_count": 19,
     "metadata": {},
     "output_type": "execute_result"
    }
   ],
   "source": [
    "# check that the folders have been created\n",
    "os.listdir('base_dir/train_dir')"
   ]
  },
  {
   "cell_type": "code",
   "execution_count": 20,
   "id": "3b92a42b",
   "metadata": {},
   "outputs": [],
   "source": [
    "#Transfer the images into the folders\n",
    "# Set the id as the index in df_data\n",
    "df_data.set_index('image_id', inplace=True)"
   ]
  },
  {
   "cell_type": "code",
   "execution_count": 21,
   "id": "67ea10d6",
   "metadata": {},
   "outputs": [],
   "source": [
    "# Get a list of train and val images\n",
    "train_list = list(df_train['image_id'])\n",
    "val_list = list(df_val['image_id'])\n",
    "\n",
    "\n",
    "\n",
    "# Transfer the train images\n",
    "\n",
    "for image in train_list:\n",
    "    \n",
    "    # the id in the csv file does not have the .tif extension therefore we add it here\n",
    "    fname = image\n",
    "    # get the label for a certain image\n",
    "    target = df_data.loc[image,'target']\n",
    "    \n",
    "    # these must match the folder names\n",
    "    if target == '0':\n",
    "        label = 'a_no_idc'\n",
    "    if target == '1':\n",
    "        label = 'b_has_idc'\n",
    "    \n",
    "    # source path to image\n",
    "    src = os.path.join(all_images_dir, fname)\n",
    "    # destination path to image\n",
    "    dst = os.path.join(train_dir, label, fname)\n",
    "    # move the image from the source to the destination\n",
    "    shutil.move(src, dst)\n",
    "    \n",
    "\n",
    "# Transfer the val images\n",
    "\n",
    "for image in val_list:\n",
    "    \n",
    "    # the id in the csv file does not have the .tif extension therefore we add it here\n",
    "    fname = image\n",
    "    # get the label for a certain image\n",
    "    target = df_data.loc[image,'target']\n",
    "    \n",
    "    # these must match the folder names\n",
    "    if target == '0':\n",
    "        label = 'a_no_idc'\n",
    "    if target == '1':\n",
    "        label = 'b_has_idc'\n",
    "    \n",
    "\n",
    "    # source path to image\n",
    "    src = os.path.join(all_images_dir, fname)\n",
    "    # destination path to image\n",
    "    dst = os.path.join(val_dir, label, fname)\n",
    "    # move the image from the source to the destination\n",
    "    shutil.move(src, dst)"
   ]
  },
  {
   "cell_type": "code",
   "execution_count": 22,
   "id": "f077f057",
   "metadata": {},
   "outputs": [
    {
     "name": "stdout",
     "output_type": "stream",
     "text": [
      "70907\n",
      "70907\n"
     ]
    }
   ],
   "source": [
    "# check how many train images we have in each folder\n",
    "\n",
    "print(len(os.listdir('base_dir/train_dir/a_no_idc')))\n",
    "print(len(os.listdir('base_dir/train_dir/b_has_idc')))"
   ]
  },
  {
   "cell_type": "code",
   "execution_count": 23,
   "id": "e308dc69",
   "metadata": {},
   "outputs": [
    {
     "name": "stdout",
     "output_type": "stream",
     "text": [
      "7879\n",
      "7879\n"
     ]
    }
   ],
   "source": [
    "# check how many val images we have in each folder\n",
    "\n",
    "print(len(os.listdir('base_dir/val_dir/a_no_idc')))\n",
    "print(len(os.listdir('base_dir/val_dir/b_has_idc')))"
   ]
  },
  {
   "cell_type": "code",
   "execution_count": 24,
   "id": "a4e2180a",
   "metadata": {},
   "outputs": [],
   "source": [
    "#-----this code part left----Set Up the Generators\n",
    "train_path = 'base_dir/train_dir'\n",
    "valid_path = 'base_dir/val_dir'\n",
    "\n",
    "\n",
    "num_train_samples = len(df_train)\n",
    "num_val_samples = len(df_val)\n",
    "train_batch_size = 10\n",
    "val_batch_size = 10\n",
    "\n",
    "\n",
    "train_steps = np.ceil(num_train_samples / train_batch_size)\n",
    "val_steps = np.ceil(num_val_samples / val_batch_size)"
   ]
  },
  {
   "cell_type": "code",
   "execution_count": 25,
   "id": "dc39a82b",
   "metadata": {},
   "outputs": [
    {
     "name": "stdout",
     "output_type": "stream",
     "text": [
      "Found 141814 images belonging to 2 classes.\n",
      "Found 15758 images belonging to 2 classes.\n",
      "Found 15758 images belonging to 2 classes.\n"
     ]
    }
   ],
   "source": [
    "datagen = ImageDataGenerator(rescale=1.0/255)\n",
    "\n",
    "train_gen = datagen.flow_from_directory(train_path,\n",
    "                                        target_size=(IMAGE_SIZE,IMAGE_SIZE),\n",
    "                                        batch_size=train_batch_size,\n",
    "                                        class_mode='categorical')\n",
    "\n",
    "val_gen = datagen.flow_from_directory(valid_path,\n",
    "                                        target_size=(IMAGE_SIZE,IMAGE_SIZE),\n",
    "                                        batch_size=val_batch_size,\n",
    "                                        class_mode='categorical')\n",
    "\n",
    "# Note: shuffle=False causes the test dataset to not be shuffled\n",
    "test_gen = datagen.flow_from_directory(valid_path,\n",
    "                                        target_size=(IMAGE_SIZE,IMAGE_SIZE),\n",
    "                                        batch_size=1,\n",
    "                                        class_mode='categorical',\n",
    "                                        shuffle=False)"
   ]
  },
  {
   "cell_type": "code",
   "execution_count": 26,
   "id": "16910ffc",
   "metadata": {},
   "outputs": [
    {
     "name": "stdout",
     "output_type": "stream",
     "text": [
      "Model: \"sequential\"\n",
      "_________________________________________________________________\n",
      " Layer (type)                Output Shape              Param #   \n",
      "=================================================================\n",
      " conv2d (Conv2D)             (None, 48, 48, 32)        896       \n",
      "                                                                 \n",
      " conv2d_1 (Conv2D)           (None, 46, 46, 32)        9248      \n",
      "                                                                 \n",
      " conv2d_2 (Conv2D)           (None, 44, 44, 32)        9248      \n",
      "                                                                 \n",
      " max_pooling2d (MaxPooling2D  (None, 22, 22, 32)       0         \n",
      " )                                                               \n",
      "                                                                 \n",
      " dropout (Dropout)           (None, 22, 22, 32)        0         \n",
      "                                                                 \n",
      " conv2d_3 (Conv2D)           (None, 20, 20, 64)        18496     \n",
      "                                                                 \n",
      " conv2d_4 (Conv2D)           (None, 18, 18, 64)        36928     \n",
      "                                                                 \n",
      " conv2d_5 (Conv2D)           (None, 16, 16, 64)        36928     \n",
      "                                                                 \n",
      " max_pooling2d_1 (MaxPooling  (None, 8, 8, 64)         0         \n",
      " 2D)                                                             \n",
      "                                                                 \n",
      " dropout_1 (Dropout)         (None, 8, 8, 64)          0         \n",
      "                                                                 \n",
      " conv2d_6 (Conv2D)           (None, 6, 6, 128)         73856     \n",
      "                                                                 \n",
      " conv2d_7 (Conv2D)           (None, 4, 4, 128)         147584    \n",
      "                                                                 \n",
      " conv2d_8 (Conv2D)           (None, 2, 2, 128)         147584    \n",
      "                                                                 \n",
      " max_pooling2d_2 (MaxPooling  (None, 1, 1, 128)        0         \n",
      " 2D)                                                             \n",
      "                                                                 \n",
      " dropout_2 (Dropout)         (None, 1, 1, 128)         0         \n",
      "                                                                 \n",
      " flatten (Flatten)           (None, 128)               0         \n",
      "                                                                 \n",
      " dense (Dense)               (None, 256)               33024     \n",
      "                                                                 \n",
      " dropout_3 (Dropout)         (None, 256)               0         \n",
      "                                                                 \n",
      " dense_1 (Dense)             (None, 2)                 514       \n",
      "                                                                 \n",
      "=================================================================\n",
      "Total params: 514,306\n",
      "Trainable params: 514,306\n",
      "Non-trainable params: 0\n",
      "_________________________________________________________________\n"
     ]
    }
   ],
   "source": [
    "#Create the Model Architecture\n",
    "\n",
    "kernel_size = (3,3)\n",
    "pool_size= (2,2)\n",
    "first_filters = 32\n",
    "second_filters = 64\n",
    "third_filters = 128\n",
    "\n",
    "dropout_conv = 0.3\n",
    "dropout_dense = 0.3\n",
    "\n",
    "\n",
    "model = Sequential()\n",
    "model.add(Conv2D(first_filters, kernel_size, activation = 'relu', \n",
    "                 input_shape = (IMAGE_SIZE, IMAGE_SIZE, 3)))\n",
    "model.add(Conv2D(first_filters, kernel_size, activation = 'relu'))\n",
    "model.add(Conv2D(first_filters, kernel_size, activation = 'relu'))\n",
    "model.add(MaxPooling2D(pool_size = pool_size)) \n",
    "model.add(Dropout(dropout_conv))\n",
    "\n",
    "model.add(Conv2D(second_filters, kernel_size, activation ='relu'))\n",
    "model.add(Conv2D(second_filters, kernel_size, activation ='relu'))\n",
    "model.add(Conv2D(second_filters, kernel_size, activation ='relu'))\n",
    "model.add(MaxPooling2D(pool_size = pool_size))\n",
    "model.add(Dropout(dropout_conv))\n",
    "\n",
    "model.add(Conv2D(third_filters, kernel_size, activation ='relu'))\n",
    "model.add(Conv2D(third_filters, kernel_size, activation ='relu'))\n",
    "model.add(Conv2D(third_filters, kernel_size, activation ='relu'))\n",
    "model.add(MaxPooling2D(pool_size = pool_size))\n",
    "model.add(Dropout(dropout_conv))\n",
    "\n",
    "model.add(Flatten())\n",
    "model.add(Dense(256, activation = \"relu\"))\n",
    "model.add(Dropout(dropout_dense))\n",
    "model.add(Dense(2, activation = \"softmax\"))\n",
    "\n",
    "model.summary()"
   ]
  },
  {
   "cell_type": "code",
   "execution_count": 27,
   "id": "7b7cefa8",
   "metadata": {},
   "outputs": [],
   "source": [
    "#Train the Model                       #learning_rate:new version of lr\n",
    "model.compile(Adam(learning_rate=0.0001), loss='binary_crossentropy', \n",
    "              metrics=['accuracy'])"
   ]
  },
  {
   "cell_type": "code",
   "execution_count": 44,
   "id": "1bed4700",
   "metadata": {},
   "outputs": [
    {
     "name": "stdout",
     "output_type": "stream",
     "text": [
      "Epoch 1/20\n",
      "14182/14182 [==============================] - ETA: 0s - loss: 0.3415 - accuracy: 0.8576\n",
      "Epoch 1: val_accuracy improved from -inf to 0.85848, saving model to .\\model.h5\n",
      "14182/14182 [==============================] - 2763s 195ms/step - loss: 0.3415 - accuracy: 0.8576 - val_loss: 0.3388 - val_accuracy: 0.8585 - lr: 1.0000e-04\n",
      "Epoch 2/20\n",
      "14182/14182 [==============================] - ETA: 0s - loss: 0.3366 - accuracy: 0.8591\n",
      "Epoch 2: val_accuracy improved from 0.85848 to 0.86718, saving model to .\\model.h5\n",
      "14182/14182 [==============================] - 2718s 192ms/step - loss: 0.3366 - accuracy: 0.8591 - val_loss: 0.3213 - val_accuracy: 0.8672 - lr: 1.0000e-04\n",
      "Epoch 3/20\n",
      "14182/14182 [==============================] - ETA: 0s - loss: 0.3318 - accuracy: 0.8618\n",
      "Epoch 3: val_accuracy improved from 0.86718 to 0.86838, saving model to .\\model.h5\n",
      "14182/14182 [==============================] - 2221s 157ms/step - loss: 0.3318 - accuracy: 0.8618 - val_loss: 0.3177 - val_accuracy: 0.8684 - lr: 1.0000e-04\n",
      "Epoch 4/20\n",
      "14182/14182 [==============================] - ETA: 0s - loss: 0.3266 - accuracy: 0.8633\n",
      "Epoch 4: val_accuracy did not improve from 0.86838\n",
      "14182/14182 [==============================] - 2434s 172ms/step - loss: 0.3266 - accuracy: 0.8633 - val_loss: 0.3374 - val_accuracy: 0.8572 - lr: 1.0000e-04\n",
      "Epoch 5/20\n",
      "14182/14182 [==============================] - ETA: 0s - loss: 0.3228 - accuracy: 0.8657\n",
      "Epoch 5: val_accuracy improved from 0.86838 to 0.86984, saving model to .\\model.h5\n",
      "14182/14182 [==============================] - 2633s 186ms/step - loss: 0.3228 - accuracy: 0.8657 - val_loss: 0.3111 - val_accuracy: 0.8698 - lr: 1.0000e-04\n",
      "Epoch 6/20\n",
      "14182/14182 [==============================] - ETA: 0s - loss: 0.3197 - accuracy: 0.8664\n",
      "Epoch 6: val_accuracy did not improve from 0.86984\n",
      "14182/14182 [==============================] - 34973s 2s/step - loss: 0.3197 - accuracy: 0.8664 - val_loss: 0.3298 - val_accuracy: 0.8643 - lr: 1.0000e-04\n",
      "Epoch 7/20\n",
      "14182/14182 [==============================] - ETA: 0s - loss: 0.3165 - accuracy: 0.8680\n",
      "Epoch 7: val_accuracy improved from 0.86984 to 0.87391, saving model to .\\model.h5\n",
      "14182/14182 [==============================] - 2292s 162ms/step - loss: 0.3165 - accuracy: 0.8680 - val_loss: 0.3031 - val_accuracy: 0.8739 - lr: 1.0000e-04\n",
      "Epoch 8/20\n",
      "14182/14182 [==============================] - ETA: 0s - loss: 0.3145 - accuracy: 0.8699\n",
      "Epoch 8: val_accuracy did not improve from 0.87391\n",
      "14182/14182 [==============================] - 6647s 469ms/step - loss: 0.3145 - accuracy: 0.8699 - val_loss: 0.3089 - val_accuracy: 0.8710 - lr: 1.0000e-04\n",
      "Epoch 9/20\n",
      "14182/14182 [==============================] - ETA: 0s - loss: 0.3099 - accuracy: 0.8715\n",
      "Epoch 9: val_accuracy did not improve from 0.87391\n",
      "14182/14182 [==============================] - 17078s 1s/step - loss: 0.3099 - accuracy: 0.8715 - val_loss: 0.3233 - val_accuracy: 0.8655 - lr: 1.0000e-04\n",
      "Epoch 10/20\n",
      "14182/14182 [==============================] - ETA: 0s - loss: 0.3088 - accuracy: 0.8715\n",
      "Epoch 10: val_accuracy did not improve from 0.87391\n",
      "\n",
      "Epoch 10: ReduceLROnPlateau reducing learning rate to 4.999999873689376e-05.\n",
      "14182/14182 [==============================] - 2802s 198ms/step - loss: 0.3088 - accuracy: 0.8715 - val_loss: 0.3164 - val_accuracy: 0.8681 - lr: 1.0000e-04\n",
      "Epoch 11/20\n",
      "14182/14182 [==============================] - ETA: 0s - loss: 0.2902 - accuracy: 0.8794\n",
      "Epoch 11: val_accuracy improved from 0.87391 to 0.87397, saving model to .\\model.h5\n",
      "14182/14182 [==============================] - 2435s 172ms/step - loss: 0.2902 - accuracy: 0.8794 - val_loss: 0.3026 - val_accuracy: 0.8740 - lr: 5.0000e-05\n",
      "Epoch 12/20\n",
      "14182/14182 [==============================] - ETA: 0s - loss: 0.2874 - accuracy: 0.8808\n",
      "Epoch 12: val_accuracy did not improve from 0.87397\n",
      "14182/14182 [==============================] - 2284s 161ms/step - loss: 0.2874 - accuracy: 0.8808 - val_loss: 0.3045 - val_accuracy: 0.8695 - lr: 5.0000e-05\n",
      "Epoch 13/20\n",
      "14182/14182 [==============================] - ETA: 0s - loss: 0.2849 - accuracy: 0.8820\n",
      "Epoch 13: val_accuracy improved from 0.87397 to 0.87924, saving model to .\\model.h5\n",
      "14182/14182 [==============================] - 2279s 161ms/step - loss: 0.2849 - accuracy: 0.8820 - val_loss: 0.2914 - val_accuracy: 0.8792 - lr: 5.0000e-05\n",
      "Epoch 14/20\n",
      "14182/14182 [==============================] - ETA: 0s - loss: 0.2832 - accuracy: 0.8822\n",
      "Epoch 14: val_accuracy did not improve from 0.87924\n",
      "14182/14182 [==============================] - 2458s 173ms/step - loss: 0.2832 - accuracy: 0.8822 - val_loss: 0.2930 - val_accuracy: 0.8764 - lr: 5.0000e-05\n",
      "Epoch 15/20\n",
      "14182/14182 [==============================] - ETA: 0s - loss: 0.2813 - accuracy: 0.8835\n",
      "Epoch 15: val_accuracy did not improve from 0.87924\n",
      "14182/14182 [==============================] - 2498s 176ms/step - loss: 0.2813 - accuracy: 0.8835 - val_loss: 0.2960 - val_accuracy: 0.8771 - lr: 5.0000e-05\n",
      "Epoch 16/20\n",
      "14182/14182 [==============================] - ETA: 0s - loss: 0.2790 - accuracy: 0.8842\n",
      "Epoch 16: val_accuracy did not improve from 0.87924\n",
      "\n",
      "Epoch 16: ReduceLROnPlateau reducing learning rate to 2.499999936844688e-05.\n",
      "14182/14182 [==============================] - 7009s 494ms/step - loss: 0.2790 - accuracy: 0.8842 - val_loss: 0.2967 - val_accuracy: 0.8781 - lr: 5.0000e-05\n",
      "Epoch 17/20\n",
      "14182/14182 [==============================] - ETA: 0s - loss: 0.2687 - accuracy: 0.8885\n",
      "Epoch 17: val_accuracy did not improve from 0.87924\n",
      "14182/14182 [==============================] - 2842s 200ms/step - loss: 0.2687 - accuracy: 0.8885 - val_loss: 0.2920 - val_accuracy: 0.8789 - lr: 2.5000e-05\n",
      "Epoch 18/20\n",
      "14182/14182 [==============================] - ETA: 0s - loss: 0.2654 - accuracy: 0.8899\n",
      "Epoch 18: val_accuracy did not improve from 0.87924\n",
      "14182/14182 [==============================] - 2320s 164ms/step - loss: 0.2654 - accuracy: 0.8899 - val_loss: 0.3003 - val_accuracy: 0.8742 - lr: 2.5000e-05\n",
      "Epoch 19/20\n",
      "14182/14182 [==============================] - ETA: 0s - loss: 0.2647 - accuracy: 0.8900\n",
      "Epoch 19: val_accuracy did not improve from 0.87924\n",
      "\n",
      "Epoch 19: ReduceLROnPlateau reducing learning rate to 1.249999968422344e-05.\n",
      "14182/14182 [==============================] - 2336s 165ms/step - loss: 0.2647 - accuracy: 0.8900 - val_loss: 0.2959 - val_accuracy: 0.8789 - lr: 2.5000e-05\n",
      "Epoch 20/20\n",
      "14182/14182 [==============================] - ETA: 0s - loss: 0.2581 - accuracy: 0.8940\n",
      "Epoch 20: val_accuracy did not improve from 0.87924\n",
      "14182/14182 [==============================] - 30069s 2s/step - loss: 0.2581 - accuracy: 0.8940 - val_loss: 0.3044 - val_accuracy: 0.8790 - lr: 1.2500e-05\n"
     ]
    }
   ],
   "source": [
    "filepath= './model.h5'\n",
    "\n",
    "checkpoint = ModelCheckpoint(filepath, monitor='val_accuracy', verbose=1, \n",
    "                             save_best_only=True, mode='max')\n",
    "\n",
    "reduce_lr = ReduceLROnPlateau(monitor='val_accuracy', factor=0.5, patience=3, \n",
    "                                   verbose=1, mode='max', min_lr=0.00001)\n",
    "                              \n",
    "                              \n",
    "callbacks_list = [checkpoint, reduce_lr]\n",
    "\n",
    "history = model.fit(train_gen, steps_per_epoch=train_steps, \n",
    "                    validation_data=val_gen,\n",
    "                    validation_steps=val_steps,\n",
    "                    epochs=20, verbose=1,\n",
    "                   callbacks=callbacks_list)"
   ]
  },
  {
   "cell_type": "code",
   "execution_count": 45,
   "id": "3db96913",
   "metadata": {},
   "outputs": [
    {
     "data": {
      "text/plain": [
       "['loss', 'accuracy']"
      ]
     },
     "execution_count": 45,
     "metadata": {},
     "output_type": "execute_result"
    }
   ],
   "source": [
    "# get the metric names so we can use evaulate_generator\n",
    "model.metrics_names"
   ]
  },
  {
   "cell_type": "code",
   "execution_count": 46,
   "id": "4fc939a3",
   "metadata": {},
   "outputs": [
    {
     "name": "stdout",
     "output_type": "stream",
     "text": [
      "15758/15758 [==============================] - 197s 12ms/step - loss: 0.2914 - accuracy: 0.8792\n",
      "val_loss: 0.29143026471138\n",
      "val_acc: 0.8792359232902527\n"
     ]
    }
   ],
   "source": [
    "# Here the best epoch will be used.\n",
    "\n",
    "model.load_weights('./model.h5')\n",
    "val_loss, val_accuracy = \\\n",
    "model.evaluate(test_gen,steps=len(df_val))       #model.evaluate_generator deprecated so model.evaluate used\n",
    "\n",
    "print('val_loss:', val_loss)\n",
    "print('val_acc:', val_accuracy)"
   ]
  },
  {
   "cell_type": "code",
   "execution_count": 47,
   "id": "dfe62682",
   "metadata": {
    "scrolled": false
   },
   "outputs": [
    {
     "data": {
      "text/plain": [
       "<Figure size 432x288 with 0 Axes>"
      ]
     },
     "execution_count": 47,
     "metadata": {},
     "output_type": "execute_result"
    },
    {
     "data": {
      "image/png": "[encoded data removed]",
      "text/plain": [
       "<Figure size 432x288 with 1 Axes>"
      ]
     },
     "metadata": {
      "needs_background": "light"
     },
     "output_type": "display_data"
    },
    {
     "data": {
      "image/png": "[encoded data removed]",
      "text/plain": [
       "<Figure size 432x288 with 1 Axes>"
      ]
     },
     "metadata": {
      "needs_background": "light"
     },
     "output_type": "display_data"
    },
    {
     "data": {
      "text/plain": [
       "<Figure size 432x288 with 0 Axes>"
      ]
     },
     "metadata": {},
     "output_type": "display_data"
    }
   ],
   "source": [
    "# display the loss and accuracy curves\n",
    "\n",
    "import matplotlib.pyplot as plt\n",
    "\n",
    "accuracy = history.history['accuracy']\n",
    "val_accuracy = history.history['val_accuracy']\n",
    "loss = history.history['loss']\n",
    "val_loss = history.history['val_loss']\n",
    "\n",
    "epochs = range(1, len(accuracy) + 1)\n",
    "\n",
    "plt.plot(epochs, loss, 'bo', label='Training loss')\n",
    "plt.plot(epochs, val_loss, 'b', label='Validation loss')\n",
    "plt.title('Training and validation loss')\n",
    "plt.legend()\n",
    "plt.figure()\n",
    "\n",
    "plt.plot(epochs, accuracy, 'bo', label='Training accuracy')\n",
    "plt.plot(epochs, val_accuracy, 'b', label='Validation accuracy')\n",
    "plt.title('Training and validation accuracy')\n",
    "plt.legend()\n",
    "plt.figure()"
   ]
  },
  {
   "cell_type": "code",
   "execution_count": 48,
   "id": "e58df5ec",
   "metadata": {},
   "outputs": [
    {
     "name": "stdout",
     "output_type": "stream",
     "text": [
      "15758/15758 [==============================] - 193s 12ms/step\n"
     ]
    }
   ],
   "source": [
    "# make a prediction\n",
    "predictions = model.predict(test_gen, steps=len(df_val), verbose=1)"
   ]
  },
  {
   "cell_type": "code",
   "execution_count": 49,
   "id": "03dd235b",
   "metadata": {},
   "outputs": [
    {
     "data": {
      "text/plain": [
       "(15758, 2)"
      ]
     },
     "execution_count": 49,
     "metadata": {},
     "output_type": "execute_result"
    }
   ],
   "source": [
    "predictions.shape"
   ]
  },
  {
   "cell_type": "code",
   "execution_count": 50,
   "id": "e255d861",
   "metadata": {},
   "outputs": [
    {
     "data": {
      "text/plain": [
       "{'a_no_idc': 0, 'b_has_idc': 1}"
      ]
     },
     "execution_count": 50,
     "metadata": {},
     "output_type": "execute_result"
    }
   ],
   "source": [
    "# This is how to check what index keras has internally assigned to each class. \n",
    "test_gen.class_indices"
   ]
  },
  {
   "cell_type": "code",
   "execution_count": 51,
   "id": "20b630d8",
   "metadata": {},
   "outputs": [
    {
     "data": {
      "text/html": [
       "<div>\n",
       "<style scoped>\n",
       "    .dataframe tbody tr th:only-of-type {\n",
       "        vertical-align: middle;\n",
       "    }\n",
       "\n",
       "    .dataframe tbody tr th {\n",
       "        vertical-align: top;\n",
       "    }\n",
       "\n",
       "    .dataframe thead th {\n",
       "        text-align: right;\n",
       "    }\n",
       "</style>\n",
       "<table border=\"1\" class=\"dataframe\">\n",
       "  <thead>\n",
       "    <tr style=\"text-align: right;\">\n",
       "      <th></th>\n",
       "      <th>no_idc</th>\n",
       "      <th>has_idc</th>\n",
       "    </tr>\n",
       "  </thead>\n",
       "  <tbody>\n",
       "    <tr>\n",
       "      <th>0</th>\n",
       "      <td>0.236468</td>\n",
       "      <td>0.763532</td>\n",
       "    </tr>\n",
       "    <tr>\n",
       "      <th>1</th>\n",
       "      <td>0.262635</td>\n",
       "      <td>0.737365</td>\n",
       "    </tr>\n",
       "    <tr>\n",
       "      <th>2</th>\n",
       "      <td>0.909270</td>\n",
       "      <td>0.090730</td>\n",
       "    </tr>\n",
       "    <tr>\n",
       "      <th>3</th>\n",
       "      <td>0.889749</td>\n",
       "      <td>0.110251</td>\n",
       "    </tr>\n",
       "    <tr>\n",
       "      <th>4</th>\n",
       "      <td>0.023847</td>\n",
       "      <td>0.976153</td>\n",
       "    </tr>\n",
       "  </tbody>\n",
       "</table>\n",
       "</div>"
      ],
      "text/plain": [
       "     no_idc   has_idc\n",
       "0  0.236468  0.763532\n",
       "1  0.262635  0.737365\n",
       "2  0.909270  0.090730\n",
       "3  0.889749  0.110251\n",
       "4  0.023847  0.976153"
      ]
     },
     "execution_count": 51,
     "metadata": {},
     "output_type": "execute_result"
    }
   ],
   "source": [
    "# Put the predictions into a dataframe.\n",
    "# The columns need to be oredered to match the output of the previous cell\n",
    "\n",
    "df_preds = pd.DataFrame(predictions, columns=['no_idc', 'has_idc'])\n",
    "\n",
    "df_preds.head()"
   ]
  },
  {
   "cell_type": "code",
   "execution_count": 52,
   "id": "75f8cc23",
   "metadata": {},
   "outputs": [],
   "source": [
    "# Get the true labels\n",
    "y_true = test_gen.classes\n",
    "\n",
    "# Get the predicted labels as probabilities\n",
    "y_pred = df_preds['has_idc']"
   ]
  },
  {
   "cell_type": "code",
   "execution_count": 53,
   "id": "fac381b3",
   "metadata": {},
   "outputs": [
    {
     "data": {
      "text/plain": [
       "0.9484110565500299"
      ]
     },
     "execution_count": 53,
     "metadata": {},
     "output_type": "execute_result"
    }
   ],
   "source": [
    "# What is the AUC Score?\n",
    "from sklearn.metrics import roc_auc_score\n",
    "\n",
    "roc_auc_score(y_true, y_pred)"
   ]
  },
  {
   "cell_type": "code",
   "execution_count": 54,
   "id": "1cd86ba7",
   "metadata": {},
   "outputs": [],
   "source": [
    "# Source: Scikit Learn website\n",
    "# http://scikit-learn.org/stable/auto_examples/\n",
    "# model_selection/plot_confusion_matrix.html#sphx-glr-auto-examples-model-\n",
    "# selection-plot-confusion-matrix-py\n",
    "\n",
    "\n",
    "def plot_confusion_matrix(cm, classes,\n",
    "                          normalize=False,\n",
    "                          title='Confusion matrix',\n",
    "                          cmap=plt.cm.Blues):\n",
    "    \"\"\"\n",
    "    This function prints and plots the confusion matrix.\n",
    "    Normalization can be applied by setting `normalize=True`.\n",
    "    \"\"\"\n",
    "    if normalize:\n",
    "        cm = cm.astype('float') / cm.sum(axis=1)[:, np.newaxis]\n",
    "        print(\"Normalized confusion matrix\")\n",
    "    else:\n",
    "        print('Confusion matrix, without normalization')\n",
    "\n",
    "    print(cm)\n",
    "\n",
    "    plt.imshow(cm, interpolation='nearest', cmap=cmap)\n",
    "    plt.title(title)\n",
    "    plt.colorbar()\n",
    "    tick_marks = np.arange(len(classes))\n",
    "    plt.xticks(tick_marks, classes, rotation=45)\n",
    "    plt.yticks(tick_marks, classes)\n",
    "\n",
    "    fmt = '.2f' if normalize else 'd'\n",
    "    thresh = cm.max() / 2.\n",
    "    for i, j in itertools.product(range(cm.shape[0]), range(cm.shape[1])):\n",
    "        plt.text(j, i, format(cm[i, j], fmt),\n",
    "                 horizontalalignment=\"center\",\n",
    "                 color=\"white\" if cm[i, j] > thresh else \"black\")\n",
    "\n",
    "    plt.ylabel('True label')\n",
    "    plt.xlabel('Predicted label')\n",
    "    plt.tight_layout()"
   ]
  },
  {
   "cell_type": "code",
   "execution_count": 55,
   "id": "2310814c",
   "metadata": {},
   "outputs": [],
   "source": [
    "# Get the labels of the test images.\n",
    "\n",
    "test_labels = test_gen.classes\n"
   ]
  },
  {
   "cell_type": "code",
   "execution_count": 56,
   "id": "e530a76c",
   "metadata": {},
   "outputs": [
    {
     "data": {
      "text/plain": [
       "(15758,)"
      ]
     },
     "execution_count": 56,
     "metadata": {},
     "output_type": "execute_result"
    }
   ],
   "source": [
    "test_labels.shape"
   ]
  },
  {
   "cell_type": "code",
   "execution_count": 57,
   "id": "f3c57868",
   "metadata": {},
   "outputs": [
    {
     "data": {
      "text/plain": [
       "{'a_no_idc': 0, 'b_has_idc': 1}"
      ]
     },
     "execution_count": 57,
     "metadata": {},
     "output_type": "execute_result"
    }
   ],
   "source": [
    "# argmax returns the index of the max value in a row\n",
    "cm = confusion_matrix(test_labels, predictions.argmax(axis=1))\n",
    "# Print the label associated with each class\n",
    "test_gen.class_indices"
   ]
  },
  {
   "cell_type": "code",
   "execution_count": 58,
   "id": "b468a917",
   "metadata": {},
   "outputs": [
    {
     "name": "stdout",
     "output_type": "stream",
     "text": [
      "Confusion matrix, without normalization\n",
      "[[6819 1060]\n",
      " [ 843 7036]]\n"
     ]
    },
    {
     "data": {
      "image/png": "[encoded data removed]",
      "text/plain": [
       "<Figure size 432x288 with 2 Axes>"
      ]
     },
     "metadata": {
      "needs_background": "light"
     },
     "output_type": "display_data"
    }
   ],
   "source": [
    "# Define the labels of the class indices. These need to match the \n",
    "# order shown above.\n",
    "cm_plot_labels = ['no_idc', 'has_idc']\n",
    "\n",
    "plot_confusion_matrix(cm, cm_plot_labels, title='Confusion Matrix')"
   ]
  },
  {
   "cell_type": "code",
   "execution_count": 59,
   "id": "971347b6",
   "metadata": {},
   "outputs": [
    {
     "name": "stdout",
     "output_type": "stream",
     "text": [
      "              precision    recall  f1-score   support\n",
      "\n",
      "      no_idc       0.89      0.87      0.88      7879\n",
      "     has_idc       0.87      0.89      0.88      7879\n",
      "\n",
      "    accuracy                           0.88     15758\n",
      "   macro avg       0.88      0.88      0.88     15758\n",
      "weighted avg       0.88      0.88      0.88     15758\n",
      "\n"
     ]
    }
   ],
   "source": [
    "from sklearn.metrics import classification_report\n",
    "\n",
    "# Generate a classification report\n",
    "\n",
    "# For this to work we need y_pred as binary labels not as probabilities\n",
    "y_pred_binary = predictions.argmax(axis=1)\n",
    "\n",
    "report = classification_report(y_true, y_pred_binary, target_names=cm_plot_labels)\n",
    "\n",
    "print(report)"
   ]
  },
  {
   "cell_type": "code",
   "execution_count": 70,
   "id": "221df365",
   "metadata": {},
   "outputs": [
    {
     "name": "stdout",
     "output_type": "stream",
     "text": [
      "Collecting tensorflowjs\n",
      "  Using cached tensorflowjs-4.1.0-py3-none-any.whl (84 kB)\n",
      "Collecting importlib_resources>=5.9.0\n",
      "  Using cached importlib_resources-5.10.0-py3-none-any.whl (34 kB)\n",
      "Collecting flax>=0.5.3\n",
      "  Using cached flax-0.6.2-py3-none-any.whl (189 kB)\n",
      "Collecting tensorflowjs\n",
      "  Using cached tensorflowjs-4.0.0-py3-none-any.whl (83 kB)\n",
      "  Using cached tensorflowjs-3.21.0-py3-none-any.whl (81 kB)\n",
      "Requirement already satisfied: tensorflow<3,>=2.1.0 in c:\\users\\anu\\anaconda3\\lib\\site-packages (from tensorflowjs) (2.9.0)\n",
      "Collecting protobuf<3.20,>=3.9.2\n",
      "  Using cached protobuf-3.19.6-cp39-cp39-win_amd64.whl (895 kB)\n",
      "Requirement already satisfied: packaging~=20.9 in c:\\users\\anu\\anaconda3\\lib\\site-packages (from tensorflowjs) (20.9)\n",
      "Requirement already satisfied: tensorflow-hub<0.13,>=0.7.0 in c:\\users\\anu\\anaconda3\\lib\\site-packages (from tensorflowjs) (0.12.0)\n",
      "Collecting jax>=0.3.16\n",
      "  Using cached jax-0.3.25.tar.gz (1.1 MB)\n",
      "  Preparing metadata (setup.py): started\n",
      "  Preparing metadata (setup.py): finished with status 'done'\n",
      "Requirement already satisfied: six<2,>=1.12.0 in c:\\users\\anu\\anaconda3\\lib\\site-packages (from tensorflowjs) (1.16.0)\n",
      "Requirement already satisfied: matplotlib in c:\\users\\anu\\anaconda3\\lib\\site-packages (from flax>=0.5.3->tensorflowjs) (3.5.1)\n",
      "Requirement already satisfied: typing-extensions>=4.1.1 in c:\\users\\anu\\anaconda3\\lib\\site-packages (from flax>=0.5.3->tensorflowjs) (4.1.1)\n",
      "Requirement already satisfied: PyYAML>=5.4.1 in c:\\users\\anu\\anaconda3\\lib\\site-packages (from flax>=0.5.3->tensorflowjs) (6.0)\n",
      "Collecting optax\n",
      "  Using cached optax-0.1.4-py3-none-any.whl (154 kB)\n",
      "Collecting tensorstore\n",
      "  Using cached tensorstore-0.1.28-cp39-cp39-win_amd64.whl (6.5 MB)\n",
      "Requirement already satisfied: numpy>=1.12 in c:\\users\\anu\\anaconda3\\lib\\site-packages (from flax>=0.5.3->tensorflowjs) (1.21.5)\n",
      "Collecting rich>=11.1\n",
      "  Using cached rich-12.6.0-py3-none-any.whl (237 kB)\n",
      "Requirement already satisfied: msgpack in c:\\users\\anu\\anaconda3\\lib\\site-packages (from flax>=0.5.3->tensorflowjs) (1.0.2)\n",
      "Requirement already satisfied: zipp>=3.1.0 in c:\\users\\anu\\anaconda3\\lib\\site-packages (from importlib_resources>=5.9.0->tensorflowjs) (3.7.0)\n",
      "Requirement already satisfied: opt_einsum in c:\\users\\anu\\anaconda3\\lib\\site-packages (from jax>=0.3.16->tensorflowjs) (3.3.0)\n",
      "Requirement already satisfied: scipy>=1.5 in c:\\users\\anu\\anaconda3\\lib\\site-packages (from jax>=0.3.16->tensorflowjs) (1.7.3)\n",
      "Requirement already satisfied: pyparsing>=2.0.2 in c:\\users\\anu\\anaconda3\\lib\\site-packages (from packaging~=20.9->tensorflowjs) (3.0.4)\n",
      "Requirement already satisfied: flatbuffers<2,>=1.12 in c:\\users\\anu\\anaconda3\\lib\\site-packages (from tensorflow<3,>=2.1.0->tensorflowjs) (1.12)\n",
      "Requirement already satisfied: setuptools in c:\\users\\anu\\anaconda3\\lib\\site-packages (from tensorflow<3,>=2.1.0->tensorflowjs) (61.2.0)\n",
      "Requirement already satisfied: absl-py>=1.0.0 in c:\\users\\anu\\anaconda3\\lib\\site-packages (from tensorflow<3,>=2.1.0->tensorflowjs) (1.2.0)\n",
      "Requirement already satisfied: astunparse>=1.6.0 in c:\\users\\anu\\anaconda3\\lib\\site-packages (from tensorflow<3,>=2.1.0->tensorflowjs) (1.6.3)\n",
      "Requirement already satisfied: libclang>=13.0.0 in c:\\users\\anu\\anaconda3\\lib\\site-packages (from tensorflow<3,>=2.1.0->tensorflowjs) (14.0.6)\n",
      "Requirement already satisfied: tensorflow-io-gcs-filesystem>=0.23.1 in c:\\users\\anu\\anaconda3\\lib\\site-packages (from tensorflow<3,>=2.1.0->tensorflowjs) (0.27.0)\n",
      "Requirement already satisfied: h5py>=2.9.0 in c:\\users\\anu\\anaconda3\\lib\\site-packages (from tensorflow<3,>=2.1.0->tensorflowjs) (3.6.0)\n",
      "Requirement already satisfied: grpcio<2.0,>=1.24.3 in c:\\users\\anu\\anaconda3\\lib\\site-packages (from tensorflow<3,>=2.1.0->tensorflowjs) (1.42.0)\n",
      "Requirement already satisfied: keras<2.10.0,>=2.9.0rc0 in c:\\users\\anu\\anaconda3\\lib\\site-packages (from tensorflow<3,>=2.1.0->tensorflowjs) (2.9.0)\n",
      "Requirement already satisfied: keras-preprocessing>=1.1.1 in c:\\users\\anu\\anaconda3\\lib\\site-packages (from tensorflow<3,>=2.1.0->tensorflowjs) (1.1.2)\n",
      "Requirement already satisfied: tensorboard<2.10,>=2.9 in c:\\users\\anu\\anaconda3\\lib\\site-packages (from tensorflow<3,>=2.1.0->tensorflowjs) (2.9.0)\n",
      "Requirement already satisfied: termcolor>=1.1.0 in c:\\users\\anu\\anaconda3\\lib\\site-packages (from tensorflow<3,>=2.1.0->tensorflowjs) (2.0.1)\n",
      "Requirement already satisfied: google-pasta>=0.1.1 in c:\\users\\anu\\anaconda3\\lib\\site-packages (from tensorflow<3,>=2.1.0->tensorflowjs) (0.2.0)\n",
      "Requirement already satisfied: gast<=0.4.0,>=0.2.1 in c:\\users\\anu\\anaconda3\\lib\\site-packages (from tensorflow<3,>=2.1.0->tensorflowjs) (0.4.0)\n",
      "Requirement already satisfied: wrapt>=1.11.0 in c:\\users\\anu\\anaconda3\\lib\\site-packages (from tensorflow<3,>=2.1.0->tensorflowjs) (1.12.1)\n",
      "Requirement already satisfied: tensorflow-estimator<2.10.0,>=2.9.0rc0 in c:\\users\\anu\\anaconda3\\lib\\site-packages (from tensorflow<3,>=2.1.0->tensorflowjs) (2.9.0)\n",
      "Requirement already satisfied: wheel<1.0,>=0.23.0 in c:\\users\\anu\\anaconda3\\lib\\site-packages (from astunparse>=1.6.0->tensorflow<3,>=2.1.0->tensorflowjs) (0.37.1)\n",
      "Requirement already satisfied: pygments<3.0.0,>=2.6.0 in c:\\users\\anu\\anaconda3\\lib\\site-packages (from rich>=11.1->flax>=0.5.3->tensorflowjs) (2.11.2)\n",
      "Collecting commonmark<0.10.0,>=0.9.0\n",
      "  Using cached commonmark-0.9.1-py2.py3-none-any.whl (51 kB)\n",
      "Requirement already satisfied: requests<3,>=2.21.0 in c:\\users\\anu\\anaconda3\\lib\\site-packages (from tensorboard<2.10,>=2.9->tensorflow<3,>=2.1.0->tensorflowjs) (2.27.1)\n",
      "Requirement already satisfied: google-auth<3,>=1.6.3 in c:\\users\\anu\\anaconda3\\lib\\site-packages (from tensorboard<2.10,>=2.9->tensorflow<3,>=2.1.0->tensorflowjs) (1.33.0)\n",
      "Requirement already satisfied: google-auth-oauthlib<0.5,>=0.4.1 in c:\\users\\anu\\anaconda3\\lib\\site-packages (from tensorboard<2.10,>=2.9->tensorflow<3,>=2.1.0->tensorflowjs) (0.4.6)\n",
      "Requirement already satisfied: tensorboard-data-server<0.7.0,>=0.6.0 in c:\\users\\anu\\anaconda3\\lib\\site-packages (from tensorboard<2.10,>=2.9->tensorflow<3,>=2.1.0->tensorflowjs) (0.6.1)\n",
      "Requirement already satisfied: tensorboard-plugin-wit>=1.6.0 in c:\\users\\anu\\anaconda3\\lib\\site-packages (from tensorboard<2.10,>=2.9->tensorflow<3,>=2.1.0->tensorflowjs) (1.8.1)\n",
      "Requirement already satisfied: markdown>=2.6.8 in c:\\users\\anu\\anaconda3\\lib\\site-packages (from tensorboard<2.10,>=2.9->tensorflow<3,>=2.1.0->tensorflowjs) (3.3.4)\n",
      "Requirement already satisfied: werkzeug>=1.0.1 in c:\\users\\anu\\anaconda3\\lib\\site-packages (from tensorboard<2.10,>=2.9->tensorflow<3,>=2.1.0->tensorflowjs) (2.0.3)\n",
      "Requirement already satisfied: pillow>=6.2.0 in c:\\users\\anu\\anaconda3\\lib\\site-packages (from matplotlib->flax>=0.5.3->tensorflowjs) (9.0.1)\n",
      "Requirement already satisfied: python-dateutil>=2.7 in c:\\users\\anu\\anaconda3\\lib\\site-packages (from matplotlib->flax>=0.5.3->tensorflowjs) (2.8.2)\n",
      "Requirement already satisfied: kiwisolver>=1.0.1 in c:\\users\\anu\\anaconda3\\lib\\site-packages (from matplotlib->flax>=0.5.3->tensorflowjs) (1.3.2)\n",
      "Requirement already satisfied: fonttools>=4.22.0 in c:\\users\\anu\\anaconda3\\lib\\site-packages (from matplotlib->flax>=0.5.3->tensorflowjs) (4.25.0)\n",
      "Requirement already satisfied: cycler>=0.10 in c:\\users\\anu\\anaconda3\\lib\\site-packages (from matplotlib->flax>=0.5.3->tensorflowjs) (0.11.0)\n",
      "Collecting chex>=0.1.5\n",
      "  Using cached chex-0.1.5-py3-none-any.whl (85 kB)\n",
      "Collecting optax\n",
      "  Using cached optax-0.1.3-py3-none-any.whl (145 kB)\n",
      "  Using cached optax-0.1.2-py3-none-any.whl (140 kB)\n",
      "  Using cached optax-0.1.1-py3-none-any.whl (136 kB)\n",
      "  Using cached optax-0.1.0-py3-none-any.whl (126 kB)\n",
      "  Using cached optax-0.0.91-py3-none-any.whl (126 kB)\n",
      "  Using cached optax-0.0.9-py3-none-any.whl (118 kB)\n",
      "  Using cached optax-0.0.8-py3-none-any.whl (113 kB)\n",
      "  Using cached optax-0.0.6-py3-none-any.whl (96 kB)\n",
      "  Using cached optax-0.0.5-py3-none-any.whl (89 kB)\n",
      "  Using cached optax-0.0.3-py3-none-any.whl (73 kB)\n",
      "  Using cached optax-0.0.2-py3-none-any.whl (54 kB)\n",
      "  Using cached optax-0.0.1-py3-none-any.whl (49 kB)\n",
      "INFO: pip is looking at multiple versions of msgpack to determine which version is compatible with other requirements. This could take a while.\n",
      "Collecting msgpack\n",
      "  Using cached msgpack-1.0.4-cp39-cp39-win_amd64.whl (62 kB)\n",
      "INFO: pip is looking at multiple versions of matplotlib to determine which version is compatible with other requirements. This could take a while.\n",
      "Collecting matplotlib\n",
      "  Using cached matplotlib-3.6.2-cp39-cp39-win_amd64.whl (7.2 MB)\n",
      "INFO: pip is looking at multiple versions of zipp to determine which version is compatible with other requirements. This could take a while.\n",
      "Collecting zipp>=3.1.0\n",
      "  Using cached zipp-3.11.0-py3-none-any.whl (6.6 kB)\n",
      "INFO: pip is looking at multiple versions of wrapt to determine which version is compatible with other requirements. This could take a while.\n",
      "Collecting wrapt>=1.11.0\n",
      "  Using cached wrapt-1.14.1-cp39-cp39-win_amd64.whl (35 kB)\n",
      "INFO: pip is looking at multiple versions of typing-extensions to determine which version is compatible with other requirements. This could take a while.\n",
      "Collecting typing-extensions>=4.1.1\n",
      "  Using cached typing_extensions-4.4.0-py3-none-any.whl (26 kB)\n",
      "  Using cached typing_extensions-4.3.0-py3-none-any.whl (25 kB)\n",
      "  Using cached typing_extensions-4.2.0-py3-none-any.whl (24 kB)\n",
      "  Using cached typing_extensions-4.1.1-py3-none-any.whl (26 kB)\n",
      "INFO: pip is looking at multiple versions of termcolor to determine which version is compatible with other requirements. This could take a while.\n",
      "Collecting termcolor>=1.1.0\n",
      "  Using cached termcolor-2.1.1-py3-none-any.whl (6.2 kB)\n",
      "INFO: pip is looking at multiple versions of typing-extensions to determine which version is compatible with other requirements. This could take a while.\n",
      "INFO: pip is looking at multiple versions of tensorflow-io-gcs-filesystem to determine which version is compatible with other requirements. This could take a while.\n",
      "Collecting tensorflow-io-gcs-filesystem>=0.23.1\n",
      "  Using cached tensorflow_io_gcs_filesystem-0.28.0-cp39-cp39-win_amd64.whl (1.5 MB)\n",
      "INFO: This is taking longer than usual. You might need to provide the dependency resolver with stricter constraints to reduce runtime. See https://pip.pypa.io/warnings/backtracking for guidance. If you want to abort this run, press Ctrl + C.\n",
      "INFO: pip is looking at multiple versions of tensorflow-estimator to determine which version is compatible with other requirements. This could take a while.\n",
      "Collecting tensorflow-estimator<2.10.0,>=2.9.0rc0\n",
      "  Using cached tensorflow_estimator-2.9.0-py2.py3-none-any.whl (438 kB)\n",
      "INFO: pip is looking at multiple versions of tensorboard to determine which version is compatible with other requirements. This could take a while.\n",
      "Collecting tensorboard<2.10,>=2.9\n",
      "  Using cached tensorboard-2.9.1-py3-none-any.whl (5.8 MB)\n",
      "INFO: pip is looking at multiple versions of scipy to determine which version is compatible with other requirements. This could take a while.\n",
      "Collecting scipy>=1.5\n",
      "  Using cached scipy-1.9.3-cp39-cp39-win_amd64.whl (40.2 MB)\n",
      "INFO: pip is looking at multiple versions of rich to determine which version is compatible with other requirements. This could take a while.\n",
      "Collecting rich>=11.1\n",
      "  Using cached rich-12.5.1-py3-none-any.whl (235 kB)\n",
      "INFO: pip is looking at multiple versions of pyyaml to determine which version is compatible with other requirements. This could take a while.\n",
      "Collecting PyYAML>=5.4.1\n",
      "  Using cached PyYAML-6.0-cp39-cp39-win_amd64.whl (151 kB)\n",
      "INFO: pip is looking at multiple versions of pyparsing to determine which version is compatible with other requirements. This could take a while.\n",
      "Collecting pyparsing>=2.0.2\n",
      "  Using cached pyparsing-3.0.9-py3-none-any.whl (98 kB)\n",
      "INFO: pip is looking at multiple versions of opt-einsum to determine which version is compatible with other requirements. This could take a while.\n",
      "Collecting opt_einsum\n",
      "  Using cached opt_einsum-3.3.0-py3-none-any.whl (65 kB)\n",
      "INFO: pip is looking at multiple versions of numpy to determine which version is compatible with other requirements. This could take a while.\n",
      "Collecting numpy>=1.12\n",
      "  Using cached numpy-1.23.5-cp39-cp39-win_amd64.whl (14.7 MB)\n",
      "INFO: pip is looking at multiple versions of libclang to determine which version is compatible with other requirements. This could take a while.\n",
      "Collecting libclang>=13.0.0\n",
      "  Using cached libclang-14.0.6-py2.py3-none-win_amd64.whl (14.2 MB)\n",
      "INFO: pip is looking at multiple versions of keras-preprocessing to determine which version is compatible with other requirements. This could take a while.\n",
      "Collecting keras-preprocessing>=1.1.1\n",
      "  Using cached Keras_Preprocessing-1.1.2-py2.py3-none-any.whl (42 kB)\n",
      "INFO: pip is looking at multiple versions of keras to determine which version is compatible with other requirements. This could take a while.\n",
      "Collecting keras<2.10.0,>=2.9.0rc0\n",
      "  Using cached keras-2.9.0-py2.py3-none-any.whl (1.6 MB)\n",
      "INFO: pip is looking at multiple versions of h5py to determine which version is compatible with other requirements. This could take a while.\n",
      "Collecting h5py>=2.9.0\n",
      "  Using cached h5py-3.7.0-cp39-cp39-win_amd64.whl (2.6 MB)\n",
      "INFO: pip is looking at multiple versions of grpcio to determine which version is compatible with other requirements. This could take a while.\n",
      "Collecting grpcio<2.0,>=1.24.3\n",
      "  Using cached grpcio-1.50.0-cp39-cp39-win_amd64.whl (3.7 MB)\n",
      "INFO: pip is looking at multiple versions of google-pasta to determine which version is compatible with other requirements. This could take a while.\n",
      "Collecting google-pasta>=0.1.1\n",
      "  Using cached google_pasta-0.2.0-py3-none-any.whl (57 kB)\n",
      "INFO: pip is looking at multiple versions of gast to determine which version is compatible with other requirements. This could take a while.\n",
      "Collecting gast<=0.4.0,>=0.2.1\n",
      "  Using cached gast-0.4.0-py3-none-any.whl (9.8 kB)\n",
      "INFO: pip is looking at multiple versions of flatbuffers to determine which version is compatible with other requirements. This could take a while.\n",
      "Collecting flatbuffers<2,>=1.12\n",
      "  Using cached flatbuffers-1.12-py2.py3-none-any.whl (15 kB)\n",
      "INFO: pip is looking at multiple versions of astunparse to determine which version is compatible with other requirements. This could take a while.\n",
      "Collecting astunparse>=1.6.0\n",
      "  Using cached astunparse-1.6.3-py2.py3-none-any.whl (12 kB)\n",
      "INFO: pip is looking at multiple versions of absl-py to determine which version is compatible with other requirements. This could take a while.\n",
      "Collecting absl-py>=1.0.0\n",
      "  Using cached absl_py-1.3.0-py3-none-any.whl (124 kB)\n",
      "INFO: pip is looking at multiple versions of tensorflow-hub to determine which version is compatible with other requirements. This could take a while.\n",
      "Collecting tensorflow-hub<0.13,>=0.7.0\n",
      "  Using cached tensorflow_hub-0.12.0-py2.py3-none-any.whl (108 kB)\n",
      "INFO: pip is looking at multiple versions of tensorflow to determine which version is compatible with other requirements. This could take a while.\n",
      "Collecting tensorflow<3,>=2.1.0\n",
      "  Using cached tensorflow-2.11.0-cp39-cp39-win_amd64.whl (1.9 kB)\n",
      "Collecting tensorflow-intel==2.11.0\n",
      "  Using cached tensorflow_intel-2.11.0-cp39-cp39-win_amd64.whl (266.3 MB)\n",
      "Collecting tensorboard<2.12,>=2.11\n",
      "  Using cached tensorboard-2.11.0-py3-none-any.whl (6.0 MB)\n",
      "Collecting keras<2.12,>=2.11.0\n",
      "  Using cached keras-2.11.0-py2.py3-none-any.whl (1.7 MB)\n",
      "Collecting tensorflow-estimator<2.12,>=2.11.0\n",
      "  Using cached tensorflow_estimator-2.11.0-py2.py3-none-any.whl (439 kB)\n",
      "Collecting flatbuffers>=2.0\n",
      "  Using cached flatbuffers-22.11.23-py2.py3-none-any.whl (26 kB)\n",
      "INFO: pip is looking at multiple versions of tensorflow-intel to determine which version is compatible with other requirements. This could take a while.\n",
      "Collecting tensorflow<3,>=2.1.0\n",
      "  Using cached tensorflow-2.10.1-cp39-cp39-win_amd64.whl (455.9 MB)\n",
      "INFO: pip is looking at multiple versions of six to determine which version is compatible with other requirements. This could take a while.\n",
      "Collecting six<2,>=1.12.0\n",
      "  Using cached six-1.16.0-py2.py3-none-any.whl (11 kB)\n",
      "INFO: pip is looking at multiple versions of protobuf to determine which version is compatible with other requirements. This could take a while.\n",
      "Collecting protobuf<3.20,>=3.9.2\n",
      "  Downloading protobuf-3.19.5-cp39-cp39-win_amd64.whl (895 kB)\n",
      "     -------------------------------------- 895.9/895.9 kB 4.0 MB/s eta 0:00:00\n",
      "INFO: pip is looking at multiple versions of packaging to determine which version is compatible with other requirements. This could take a while.\n",
      "Collecting packaging~=20.9\n",
      "  Using cached packaging-20.9-py2.py3-none-any.whl (40 kB)\n",
      "INFO: pip is looking at multiple versions of jax to determine which version is compatible with other requirements. This could take a while.\n",
      "Collecting jax>=0.3.16\n",
      "  Using cached jax-0.3.24.tar.gz (1.1 MB)\n",
      "  Preparing metadata (setup.py): started\n",
      "  Preparing metadata (setup.py): finished with status 'done'\n",
      "  Using cached jax-0.3.23.tar.gz (1.1 MB)\n",
      "  Preparing metadata (setup.py): started\n",
      "  Preparing metadata (setup.py): finished with status 'done'\n",
      "Collecting etils[epath]\n",
      "  Using cached etils-0.9.0-py3-none-any.whl (140 kB)\n",
      "Collecting jax>=0.3.16\n",
      "  Using cached jax-0.3.22.tar.gz (1.1 MB)\n",
      "  Preparing metadata (setup.py): started\n",
      "  Preparing metadata (setup.py): finished with status 'done'\n",
      "  Using cached jax-0.3.21.tar.gz (1.1 MB)\n",
      "  Preparing metadata (setup.py): started\n",
      "  Preparing metadata (setup.py): finished with status 'done'\n",
      "  Using cached jax-0.3.20.tar.gz (1.1 MB)\n",
      "  Preparing metadata (setup.py): started\n",
      "  Preparing metadata (setup.py): finished with status 'done'\n",
      "  Using cached jax-0.3.19.tar.gz (1.1 MB)\n",
      "  Preparing metadata (setup.py): started\n",
      "  Preparing metadata (setup.py): finished with status 'done'\n",
      "  Using cached jax-0.3.17.tar.gz (1.1 MB)\n",
      "  Preparing metadata (setup.py): started\n",
      "  Preparing metadata (setup.py): finished with status 'done'\n",
      "INFO: pip is looking at multiple versions of jax to determine which version is compatible with other requirements. This could take a while.\n",
      "  Using cached jax-0.3.16.tar.gz (1.0 MB)\n",
      "  Preparing metadata (setup.py): started\n",
      "  Preparing metadata (setup.py): finished with status 'done'\n",
      "INFO: pip is looking at multiple versions of <Python from Requires-Python> to determine which version is compatible with other requirements. This could take a while.\n",
      "INFO: pip is looking at multiple versions of importlib-resources to determine which version is compatible with other requirements. This could take a while.\n",
      "Collecting importlib_resources>=5.9.0\n",
      "  Using cached importlib_resources-5.9.0-py3-none-any.whl (33 kB)\n",
      "INFO: This is taking longer than usual. You might need to provide the dependency resolver with stricter constraints to reduce runtime. See https://pip.pypa.io/warnings/backtracking for guidance. If you want to abort this run, press Ctrl + C.\n",
      "INFO: pip is looking at multiple versions of <Python from Requires-Python> to determine which version is compatible with other requirements. This could take a while.\n",
      "INFO: pip is looking at multiple versions of flax to determine which version is compatible with other requirements. This could take a while.\n",
      "Collecting flax>=0.5.3\n",
      "  Using cached flax-0.6.1-py3-none-any.whl (185 kB)\n",
      "INFO: This is taking longer than usual. You might need to provide the dependency resolver with stricter constraints to reduce runtime. See https://pip.pypa.io/warnings/backtracking for guidance. If you want to abort this run, press Ctrl + C.\n",
      "  Using cached flax-0.6.0-py3-none-any.whl (180 kB)\n",
      "Collecting rich~=11.1\n",
      "  Using cached rich-11.2.0-py3-none-any.whl (217 kB)\n",
      "Collecting flax>=0.5.3\n",
      "  Using cached flax-0.5.3-py3-none-any.whl (202 kB)\n",
      "INFO: pip is looking at multiple versions of tensorflowjs to determine which version is compatible with other requirements. This could take a while.\n",
      "Collecting tensorflowjs\n",
      "  Using cached tensorflowjs-3.20.0-py3-none-any.whl (81 kB)\n",
      "INFO: pip is looking at multiple versions of flax to determine which version is compatible with other requirements. This could take a while.\n",
      "  Using cached tensorflowjs-3.19.0-py3-none-any.whl (78 kB)\n",
      "Requirement already satisfied: protobuf==3.20.0 in c:\\users\\anu\\anaconda3\\lib\\site-packages (from tensorflowjs) (3.20.0)\n",
      "Requirement already satisfied: rsa<5,>=3.1.4 in c:\\users\\anu\\anaconda3\\lib\\site-packages (from google-auth<3,>=1.6.3->tensorboard<2.10,>=2.9->tensorflow<3,>=2.1.0->tensorflowjs) (4.7.2)\n",
      "Requirement already satisfied: cachetools<5.0,>=2.0.0 in c:\\users\\anu\\anaconda3\\lib\\site-packages (from google-auth<3,>=1.6.3->tensorboard<2.10,>=2.9->tensorflow<3,>=2.1.0->tensorflowjs) (4.2.2)\n",
      "Requirement already satisfied: pyasn1-modules>=0.2.1 in c:\\users\\anu\\anaconda3\\lib\\site-packages (from google-auth<3,>=1.6.3->tensorboard<2.10,>=2.9->tensorflow<3,>=2.1.0->tensorflowjs) (0.2.8)\n",
      "Requirement already satisfied: requests-oauthlib>=0.7.0 in c:\\users\\anu\\anaconda3\\lib\\site-packages (from google-auth-oauthlib<0.5,>=0.4.1->tensorboard<2.10,>=2.9->tensorflow<3,>=2.1.0->tensorflowjs) (1.3.1)\n",
      "Requirement already satisfied: certifi>=2017.4.17 in c:\\users\\anu\\anaconda3\\lib\\site-packages (from requests<3,>=2.21.0->tensorboard<2.10,>=2.9->tensorflow<3,>=2.1.0->tensorflowjs) (2021.10.8)\n",
      "Requirement already satisfied: idna<4,>=2.5 in c:\\users\\anu\\anaconda3\\lib\\site-packages (from requests<3,>=2.21.0->tensorboard<2.10,>=2.9->tensorflow<3,>=2.1.0->tensorflowjs) (3.3)\n",
      "Requirement already satisfied: urllib3<1.27,>=1.21.1 in c:\\users\\anu\\anaconda3\\lib\\site-packages (from requests<3,>=2.21.0->tensorboard<2.10,>=2.9->tensorflow<3,>=2.1.0->tensorflowjs) (1.26.9)\n",
      "Requirement already satisfied: charset-normalizer~=2.0.0 in c:\\users\\anu\\anaconda3\\lib\\site-packages (from requests<3,>=2.21.0->tensorboard<2.10,>=2.9->tensorflow<3,>=2.1.0->tensorflowjs) (2.0.4)\n",
      "Requirement already satisfied: pyasn1<0.5.0,>=0.4.6 in c:\\users\\anu\\anaconda3\\lib\\site-packages (from pyasn1-modules>=0.2.1->google-auth<3,>=1.6.3->tensorboard<2.10,>=2.9->tensorflow<3,>=2.1.0->tensorflowjs) (0.4.8)\n",
      "Requirement already satisfied: oauthlib>=3.0.0 in c:\\users\\anu\\anaconda3\\lib\\site-packages (from requests-oauthlib>=0.7.0->google-auth-oauthlib<0.5,>=0.4.1->tensorboard<2.10,>=2.9->tensorflow<3,>=2.1.0->tensorflowjs) (3.2.1)\n",
      "Installing collected packages: tensorflowjs\n",
      "Successfully installed tensorflowjs-3.19.0\n",
      "Note: you may need to restart the kernel to use updated packages.\n"
     ]
    }
   ],
   "source": [
    "pip install tensorflowjs"
   ]
  },
  {
   "cell_type": "code",
   "execution_count": 76,
   "id": "be5d4e4f",
   "metadata": {},
   "outputs": [
    {
     "name": "stderr",
     "output_type": "stream",
     "text": [
      "2022-11-28 10:55:45.021047: W tensorflow/stream_executor/platform/default/dso_loader.cc:64] Could not load dynamic library 'cudart64_110.dll'; dlerror: cudart64_110.dll not found\n",
      "2022-11-28 10:55:45.021151: I tensorflow/stream_executor/cuda/cudart_stub.cc:29] Ignore above cudart dlerror if you do not have a GPU set up on your machine.\n"
     ]
    }
   ],
   "source": [
    "# Use the command line conversion tool to convert the model\n",
    "\n",
    "!tensorflowjs_converter --input_format keras ./model.h5 ./tfjs_model_1/model"
   ]
  },
  {
   "cell_type": "code",
   "execution_count": null,
   "id": "3c1a5e9f",
   "metadata": {},
   "outputs": [],
   "source": []
  }
 ],
 "metadata": {
  "kernelspec": {
   "display_name": "Python 3 (ipykernel)",
   "language": "python",
   "name": "python3"
  },
  "language_info": {
   "codemirror_mode": {
    "name": "ipython",
    "version": 3
   },
   "file_extension": ".py",
   "mimetype": "text/x-python",
   "name": "python",
   "nbconvert_exporter": "python",
   "pygments_lexer": "ipython3",
   "version": "3.9.12"
  }
 },
 "nbformat": 4,
 "nbformat_minor": 5
}
